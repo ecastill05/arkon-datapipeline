{
 "cells": [
  {
   "cell_type": "code",
   "execution_count": 56,
   "id": "3799663d-3242-4df1-bf55-c0a615e401dd",
   "metadata": {},
   "outputs": [],
   "source": [
    "import sqlalchemy\n",
    "import pandas as pd"
   ]
  },
  {
   "cell_type": "code",
   "execution_count": 57,
   "id": "21b494f0-4261-40af-ae64-b69c2f7a8feb",
   "metadata": {},
   "outputs": [],
   "source": [
    "connection_uri = \"postgresql+psycopg2://postgres:postgres@db:5432/metrobus_db\"\n",
    "db_engine = sqlalchemy.create_engine(connection_uri)\n",
    "db_schema = \"estatico\"\n",
    "datafiles_list = [\"alcaldias\",\"feed_info\",\"shapes\",\"agency\",\"calendar_dates\",\"calendar\",\"routes\",\"trips\",\"stops\",\"stop_times\"]"
   ]
  },
  {
   "cell_type": "code",
   "execution_count": 58,
   "id": "4d829c39-fd17-4d21-b7db-edb62993f24d",
   "metadata": {},
   "outputs": [],
   "source": [
    "def extract(file_name):\n",
    "    # Read a txt file and return a dataframe\n",
    "    df = pd.read_csv(file_name)\n",
    "    return df"
   ]
  },
  {
   "cell_type": "code",
   "execution_count": 59,
   "id": "40253b5c-32f5-45b8-ad3b-2596d8c86061",
   "metadata": {},
   "outputs": [],
   "source": [
    "def transform_to_date(raw_data,column):\n",
    "    # Convert a column to type date\n",
    "    raw_data[column] = pd.to_datetime(raw_data[column], format=\"%Y%m%d\")\n",
    "    return raw_data"
   ]
  },
  {
   "cell_type": "code",
   "execution_count": 60,
   "id": "458a3da9-a487-4c1b-bb56-c7eef6e19e6b",
   "metadata": {},
   "outputs": [],
   "source": [
    "def transform_to_time(raw_data,column):\n",
    "    # Convert a column to type time\n",
    "    raw_data[column] = pd.to_datetime(raw_data[column], format=\"%H:%M:%S\")\n",
    "    return raw_data"
   ]
  },
  {
   "cell_type": "code",
   "execution_count": 61,
   "id": "4872dcc6-af85-4348-83a1-6589e09ddbc4",
   "metadata": {},
   "outputs": [],
   "source": [
    "def transform(file_name,raw_data):\n",
    "    if file_name == \"calendar_dates\":\n",
    "       transformed_data = transform_to_date(raw_data,\"date\")\n",
    "    elif file_name == \"calendar\":\n",
    "        transformed_data = transform_to_date(raw_data,\"start_date\")\n",
    "        transformed_data = transform_to_date(raw_data,\"end_date\")\n",
    "    elif file_name == \"feed_info\":\n",
    "        transformed_data = transform_to_date(raw_data,\"feed_start_date\")\n",
    "        transformed_data = transform_to_date(raw_data,\"feed_end_date\")\n",
    "    else: \n",
    "        transformed_data = raw_data\n",
    "    return transformed_data"
   ]
  },
  {
   "cell_type": "code",
   "execution_count": 62,
   "id": "15b41491-96dd-4587-b16e-12f9e64e8ced",
   "metadata": {},
   "outputs": [],
   "source": [
    "def load(transformed_data, con_engine,schema_name, table_name):\n",
    "    # Truncate the table \n",
    "        # To be created later\n",
    "    \n",
    "\t# Store the data in the database\n",
    "    try:\n",
    "        transformed_data.to_sql(\n",
    "        \tname=table_name,\n",
    "    \t\tcon=con_engine,\n",
    "            schema=schema_name,\n",
    "    \t\tif_exists=\"append\",  # Make sure to replace existing data\n",
    "    \t\tindex=False\n",
    "        )\n",
    "    except Exception as e:\n",
    "        print(f\"Error inserting record: {e}\")\n"
   ]
  },
  {
   "cell_type": "code",
   "execution_count": 63,
   "id": "644f4a8e-b6fd-4255-bb69-65f6bdcf517d",
   "metadata": {},
   "outputs": [],
   "source": [
    "def data_pipeline():\n",
    "    for f in datafiles_list:       \n",
    "        # Extracting the data\n",
    "        file = f + \".txt\"\n",
    "        raw_data = extract(file)\n",
    "\n",
    "        #Transforming the data\n",
    "        transformed_data = transform(f,raw_data)\n",
    "           \n",
    "        # Loading the data in the database\n",
    "        table = f + \"_bronze\"   \n",
    "        load(transformed_data,db_engine,db_schema,table)"
   ]
  },
  {
   "cell_type": "code",
   "execution_count": 64,
   "id": "a84bf459-b0c1-424e-9f59-a8b1819fe7bb",
   "metadata": {},
   "outputs": [],
   "source": [
    "data_pipeline()"
   ]
  }
 ],
 "metadata": {
  "kernelspec": {
   "display_name": "Python 3 (ipykernel)",
   "language": "python",
   "name": "python3"
  },
  "language_info": {
   "codemirror_mode": {
    "name": "ipython",
    "version": 3
   },
   "file_extension": ".py",
   "mimetype": "text/x-python",
   "name": "python",
   "nbconvert_exporter": "python",
   "pygments_lexer": "ipython3",
   "version": "3.11.6"
  }
 },
 "nbformat": 4,
 "nbformat_minor": 5
}
